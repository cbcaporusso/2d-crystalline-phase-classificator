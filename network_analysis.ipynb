{
 "cells": [
  {
   "cell_type": "code",
   "execution_count": 2,
   "metadata": {},
   "outputs": [],
   "source": [
    "import networkx as nx\n",
    "import glob\n",
    "import numpy as np\n",
    "import matplotlib.pyplot as plt"
   ]
  },
  {
   "cell_type": "markdown",
   "metadata": {},
   "source": [
    "Read data"
   ]
  },
  {
   "cell_type": "code",
   "execution_count": 3,
   "metadata": {},
   "outputs": [
    {
     "name": "stdout",
     "output_type": "stream",
     "text": [
      "0.708 8\n",
      "ordered_128/Pe0/fi0.708_8/Trj/xyz.dump.86000000\n",
      "0.722 7\n",
      "ordered_128/Pe0/fi0.722_7/Trj/xyz.dump.86000000\n",
      "0.702 6\n",
      "ordered_128/Pe0/fi0.702_6/Trj/xyz.dump.86000000\n",
      "0.732 1\n",
      "ordered_128/Pe0/fi0.732_1/Trj/xyz.dump.40000000\n",
      "0.704 8\n",
      "ordered_128/Pe0/fi0.704_8/Trj/xyz.dump.86000000\n",
      "0.729 1\n",
      "ordered_128/Pe0/fi0.729_1/Trj/xyz.dump.40000000\n",
      "0.704 6\n",
      "ordered_128/Pe0/fi0.704_6/Trj/xyz.dump.86000000\n",
      "0.706 8\n",
      "ordered_128/Pe0/fi0.706_8/Trj/xyz.dump.86000000\n",
      "0.7 6\n",
      "ordered_128/Pe0/fi0.700_6/Trj/xyz.dump.86000000\n",
      "0.724 8\n",
      "ordered_128/Pe0/fi0.724_8/Trj/xyz.dump.86000000\n",
      "0.72 1\n",
      "ordered_128/Pe0/fi0.720_1/Trj/xyz.dump.270000000\n",
      "0.712 7\n",
      "ordered_128/Pe0/fi0.712_7/Trj/xyz.dump.86000000\n",
      "0.716 8\n",
      "ordered_128/Pe0/fi0.716_8/Trj/xyz.dump.86000000\n",
      "0.714 8\n",
      "ordered_128/Pe0/fi0.714_8/Trj/xyz.dump.86000000\n",
      "0.718 8\n",
      "ordered_128/Pe0/fi0.718_8/Trj/xyz.dump.86000000\n",
      "0.712 8\n",
      "ordered_128/Pe0/fi0.712_8/Trj/xyz.dump.86000000\n",
      "0.72 8\n",
      "ordered_128/Pe0/fi0.720_8/Trj/xyz.dump.86000000\n",
      "0.736 1\n",
      "ordered_128/Pe0/fi0.736_1/Trj/xyz.dump.40000000\n",
      "0.702 7\n",
      "ordered_128/Pe0/fi0.702_7/Trj/xyz.dump.86000000\n",
      "0.71 1\n",
      "ordered_128/Pe0/fi0.710_1/Trj/xyz.dump.270000000\n",
      "0.712 6\n",
      "ordered_128/Pe0/fi0.712_6/Trj/xyz.dump.86000000\n",
      "0.714 6\n",
      "ordered_128/Pe0/fi0.714_6/Trj/xyz.dump.86000000\n",
      "0.72 6\n",
      "ordered_128/Pe0/fi0.720_6/Trj/xyz.dump.86000000\n",
      "0.72 7\n",
      "ordered_128/Pe0/fi0.720_7/Trj/xyz.dump.86000000\n",
      "0.735 1\n",
      "ordered_128/Pe0/fi0.735_1/Trj/xyz.dump.40000000\n",
      "0.738 1\n",
      "ordered_128/Pe0/fi0.738_1/Trj/xyz.dump.40000000\n",
      "0.708 7\n",
      "ordered_128/Pe0/fi0.708_7/Trj/xyz.dump.86000000\n",
      "0.716 7\n",
      "ordered_128/Pe0/fi0.716_7/Trj/xyz.dump.86000000\n",
      "0.722 8\n",
      "ordered_128/Pe0/fi0.722_8/Trj/xyz.dump.86000000\n",
      "0.715 1\n",
      "ordered_128/Pe0/fi0.715_1/Trj/xyz.dump.270000000\n",
      "0.704 7\n",
      "ordered_128/Pe0/fi0.704_7/Trj/xyz.dump.86000000\n",
      "0.722 6\n",
      "ordered_128/Pe0/fi0.722_6/Trj/xyz.dump.86000000\n",
      "0.726 6\n",
      "ordered_128/Pe0/fi0.726_6/Trj/xyz.dump.86000000\n",
      "0.724 7\n",
      "ordered_128/Pe0/fi0.724_7/Trj/xyz.dump.86000000\n",
      "0.737 1\n",
      "ordered_128/Pe0/fi0.737_1/Trj/xyz.dump.40000000\n",
      "0.7 7\n",
      "ordered_128/Pe0/fi0.700_7/Trj/xyz.dump.86000000\n",
      "0.723 1\n",
      "ordered_128/Pe0/fi0.723_1/Trj/xyz.dump.40000000\n",
      "0.724 6\n",
      "ordered_128/Pe0/fi0.724_6/Trj/xyz.dump.86000000\n",
      "0.73 1\n",
      "ordered_128/Pe0/fi0.730_1/Trj/xyz.dump.40000000\n",
      "0.705 1\n",
      "ordered_128/Pe0/fi0.705_1/Trj/xyz.dump.270000000\n",
      "0.706 7\n",
      "ordered_128/Pe0/fi0.706_7/Trj/xyz.dump.86000000\n",
      "0.726 1\n",
      "ordered_128/Pe0/fi0.726_1/Trj/xyz.dump.40000000\n",
      "0.733 1\n",
      "ordered_128/Pe0/fi0.733_1/Trj/xyz.dump.40000000\n",
      "0.727 1\n",
      "ordered_128/Pe0/fi0.727_1/Trj/xyz.dump.40000000\n",
      "0.718 7\n",
      "ordered_128/Pe0/fi0.718_7/Trj/xyz.dump.86000000\n",
      "0.7 8\n",
      "ordered_128/Pe0/fi0.700_8/Trj/xyz.dump.86000000\n",
      "0.731 1\n",
      "ordered_128/Pe0/fi0.731_1/Trj/xyz.dump.40000000\n",
      "0.71 7\n",
      "ordered_128/Pe0/fi0.710_7/Trj/xyz.dump.86000000\n",
      "0.708 6\n",
      "ordered_128/Pe0/fi0.708_6/Trj/xyz.dump.86000000\n",
      "0.718 6\n",
      "ordered_128/Pe0/fi0.718_6/Trj/xyz.dump.86000000\n",
      "0.71 8\n",
      "ordered_128/Pe0/fi0.710_8/Trj/xyz.dump.86000000\n",
      "0.71 6\n",
      "ordered_128/Pe0/fi0.710_6/Trj/xyz.dump.86000000\n",
      "0.728 1\n",
      "ordered_128/Pe0/fi0.728_1/Trj/xyz.dump.40000000\n",
      "0.714 7\n",
      "ordered_128/Pe0/fi0.714_7/Trj/xyz.dump.86000000\n",
      "0.706 6\n",
      "ordered_128/Pe0/fi0.706_6/Trj/xyz.dump.86000000\n",
      "0.702 8\n",
      "ordered_128/Pe0/fi0.702_8/Trj/xyz.dump.86000000\n",
      "0.739 1\n",
      "ordered_128/Pe0/fi0.739_1/Trj/xyz.dump.40000000\n",
      "0.74 1\n",
      "ordered_128/Pe0/fi0.740_1/Trj/xyz.dump.40000000\n",
      "0.724 1\n",
      "ordered_128/Pe0/fi0.724_1/Trj/xyz.dump.40000000\n",
      "0.726 7\n",
      "ordered_128/Pe0/fi0.726_7/Trj/xyz.dump.86000000\n",
      "0.734 1\n",
      "ordered_128/Pe0/fi0.734_1/Trj/xyz.dump.40000000\n",
      "0.725 1\n",
      "ordered_128/Pe0/fi0.725_1/Trj/xyz.dump.270000000\n",
      "0.726 8\n",
      "ordered_128/Pe0/fi0.726_8/Trj/xyz.dump.86000000\n",
      "0.716 6\n",
      "ordered_128/Pe0/fi0.716_6/Trj/xyz.dump.86000000\n"
     ]
    }
   ],
   "source": [
    "path = 'ordered_128/Pe0/'\n",
    "\n",
    "data_array = []\n",
    "data_fis = []\n",
    "\n",
    "# Read in the data\n",
    "for fi in glob.glob(path + '/fi*'):\n",
    "    # extract the density from the path name\n",
    "    density, run = tuple(fi.split('/')[2].split('_'))\n",
    "    density = float(density.split('fi')[1])\n",
    "    print(density, run)\n",
    "    trj = glob.glob(fi + '/Trj/xyz.dump.*')[-1]\n",
    "    print(trj)\n",
    "    data = np.loadtxt(trj, skiprows=9)\n",
    "        \n",
    "    \n",
    "    data_array.append(data[:,[1,2]])\n",
    "    data_fis.append(density)\n"
   ]
  },
  {
   "cell_type": "code",
   "execution_count": 9,
   "metadata": {},
   "outputs": [
    {
     "name": "stdout",
     "output_type": "stream",
     "text": [
      "(16384, 2)\n"
     ]
    }
   ],
   "source": [
    "len(data_array)\n",
    "print(data_array[3].shape)"
   ]
  },
  {
   "cell_type": "code",
   "execution_count": 10,
   "metadata": {},
   "outputs": [],
   "source": [
    "def distance_matrix(data):\n",
    "    ''' Create a distance matrix from a list of points'''\n",
    "    #n = len(data)\n",
    "    #dist = np.zeros((n,n))\n",
    "    m, n = np.meshgrid(data, data)\n",
    "    dist = np.sqrt(np.sum((m - n)**2, axis=-1))    \n",
    "    return dist\n",
    "\n",
    "def discretize_distance_matrix(distance_matrix):\n",
    "    '''Discretize the distance matrix'''\n",
    "    np.where(distance_matrix <= 1.5, 1, 0)\n",
    "    return distance_matrix"
   ]
  },
  {
   "cell_type": "code",
   "execution_count": 6,
   "metadata": {},
   "outputs": [
    {
     "ename": "",
     "evalue": "",
     "output_type": "error",
     "traceback": [
      "\u001b[1;31mCanceled future for execute_request message before replies were done"
     ]
    },
    {
     "ename": "",
     "evalue": "",
     "output_type": "error",
     "traceback": [
      "\u001b[1;31mThe Kernel crashed while executing code in the the current cell or a previous cell. Please review the code in the cell(s) to identify a possible cause of the failure. Click <a href='https://aka.ms/vscodeJupyterKernelCrash'>here</a> for more info. View Jupyter <a href='command:jupyter.viewOutput'>log</a> for further details."
     ]
    }
   ],
   "source": [
    "plt.figure(figsize=(10,10))\n",
    "for i,conf in enumerate(data_array):\n",
    "    if i % 4 != 0:\n",
    "        continue\n",
    "    plt.subplot(8,8,i+1)\n",
    "    dist = distance_matrix(conf)\n",
    "    dist = discretize_distance_matrix(dist)\n",
    "    #G = nx.from_numpy_matrix(dist)\n",
    "    plt.imshow(dist, interpolation='nearest')\n",
    "    plt.xlabel(data_fis[i])\n",
    "plt.show()"
   ]
  },
  {
   "cell_type": "code",
   "execution_count": 11,
   "metadata": {},
   "outputs": [
    {
     "ename": "",
     "evalue": "",
     "output_type": "error",
     "traceback": [
      "\u001b[1;31mCanceled future for execute_request message before replies were done"
     ]
    },
    {
     "ename": "",
     "evalue": "",
     "output_type": "error",
     "traceback": [
      "\u001b[1;31mThe Kernel crashed while executing code in the the current cell or a previous cell. Please review the code in the cell(s) to identify a possible cause of the failure. Click <a href='https://aka.ms/vscodeJupyterKernelCrash'>here</a> for more info. View Jupyter <a href='command:jupyter.viewOutput'>log</a> for further details."
     ]
    }
   ],
   "source": [
    "index = 2\n",
    "dist = distance_matrix(data_array[index])\n",
    "dist = np.where(dist <= 1.5, 1, 0)\n",
    "\n",
    "print(dist)\n",
    "\n",
    "plt.figure(figsize=(5,5))\n",
    "plt.imshow(dist, interpolation='nearest')\n",
    "plt.show()"
   ]
  },
  {
   "cell_type": "code",
   "execution_count": 7,
   "metadata": {},
   "outputs": [
    {
     "name": "stdout",
     "output_type": "stream",
     "text": [
      "[[1 0 0 ... 0 0 0]\n",
      " [0 1 0 ... 0 0 0]\n",
      " [0 0 1 ... 0 0 0]\n",
      " ...\n",
      " [0 0 0 ... 1 0 0]\n",
      " [0 0 0 ... 0 1 0]\n",
      " [0 0 0 ... 0 0 1]]\n"
     ]
    }
   ],
   "source": [
    "print(np.where(dist <= 1.5, 1, 0))"
   ]
  },
  {
   "cell_type": "code",
   "execution_count": null,
   "metadata": {},
   "outputs": [],
   "source": []
  }
 ],
 "metadata": {
  "kernelspec": {
   "display_name": "Python 3.10.6 64-bit",
   "language": "python",
   "name": "python3"
  },
  "language_info": {
   "codemirror_mode": {
    "name": "ipython",
    "version": 3
   },
   "file_extension": ".py",
   "mimetype": "text/x-python",
   "name": "python",
   "nbconvert_exporter": "python",
   "pygments_lexer": "ipython3",
   "version": "3.10.6"
  },
  "orig_nbformat": 4,
  "vscode": {
   "interpreter": {
    "hash": "31f2aee4e71d21fbe5cf8b01ff0e069b9275f58929596ceb00d14d90e3e16cd6"
   }
  }
 },
 "nbformat": 4,
 "nbformat_minor": 2
}
