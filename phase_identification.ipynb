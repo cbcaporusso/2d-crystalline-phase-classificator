{
  "cells": [
    {
      "cell_type": "markdown",
      "metadata": {
        "id": "xL_9qiV-ui93"
      },
      "source": [
        "# Phase Identification NN\n",
        "\n",
        "Developement of a neural network capable of identifying the phase of a 2D system (liquid, hexatic or solid)"
      ]
    },
    {
      "cell_type": "code",
      "execution_count": null,
      "metadata": {
        "id": "i7iEA9tDVWNY"
      },
      "outputs": [],
      "source": [
        "import tensorflow as tf\n",
        "\n",
        "import glob\n",
        "import numpy as np\n",
        "import matplotlib.pyplot as plt\n",
        "\n",
        "print(tf.__version__)"
      ]
    },
    {
      "cell_type": "markdown",
      "metadata": {
        "id": "B29FwI6BfuI1"
      },
      "source": [
        "## Load data"
      ]
    },
    {
      "cell_type": "markdown",
      "metadata": {},
      "source": [
        "First, let us load the data"
      ]
    },
    {
      "cell_type": "code",
      "execution_count": null,
      "metadata": {
        "id": "rfDnFX2lfzUf"
      },
      "outputs": [],
      "source": [
        "# loop over all the runs\n",
        "path = 'ordered_128/Pe0'\n",
        "for fi in glob.glob(path + '/fi*'):\n",
        "    # extract the density from the path name\n",
        "    density = float(fi.split('_')[0].split('fi')[1])\n",
        "    # loop over all the trajectories\n",
        "    for trj in glob.glob(fi + '/Trj/xyz.dump.*'):\n",
        "        # load the trajectory\n",
        "        print(trj)\n",
        "\n",
        "\n",
        "data = np.loadtxt('ordered_128/Pe0/fi0.700_6/Trj/xyz.dump.40000000')"
      ]
    },
    {
      "cell_type": "markdown",
      "metadata": {
        "id": "TvdscQn9gPT9"
      },
      "source": [
        "## Data selection\n"
      ]
    },
    {
      "cell_type": "code",
      "execution_count": null,
      "metadata": {
        "id": "r1nnNjWOgdHN"
      },
      "outputs": [],
      "source": []
    },
    {
      "cell_type": "markdown",
      "metadata": {
        "id": "H95mVo5Bf6ak"
      },
      "source": [
        "## Set the model"
      ]
    },
    {
      "cell_type": "code",
      "execution_count": null,
      "metadata": {
        "id": "TnRG1j78f77R"
      },
      "outputs": [],
      "source": [
        "model = tf.keras.Sequential([\n",
        "    tf.keras.layers.Flatten(input_shape=(512,2)),\n",
        "    tf.keras.layers.Dense(512, activation='relu'),\n",
        "    tf.keras.layers.Dense(512, activation='relu'),\n",
        "    tf.keras.layers.Dense(3)\n",
        "]"
      ]
    }
  ],
  "metadata": {
    "colab": {
      "provenance": []
    },
    "kernelspec": {
      "display_name": "Python 3",
      "name": "python3"
    },
    "language_info": {
      "name": "python"
    }
  },
  "nbformat": 4,
  "nbformat_minor": 0
}
