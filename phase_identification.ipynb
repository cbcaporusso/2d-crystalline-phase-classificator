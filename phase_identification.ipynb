{
  "cells": [
    {
      "cell_type": "markdown",
      "metadata": {
        "id": "xL_9qiV-ui93"
      },
      "source": [
        "# Phase Identification NN\n",
        "\n",
        "Developement of a neural network capable of identifying the phase of a 2D system (liquid, hexatic or solid)"
      ]
    },
    {
      "cell_type": "code",
      "execution_count": 1,
      "metadata": {
        "id": "i7iEA9tDVWNY"
      },
      "outputs": [
        {
          "name": "stderr",
          "output_type": "stream",
          "text": [
            "2023-01-15 16:40:17.386515: I tensorflow/core/platform/cpu_feature_guard.cc:193] This TensorFlow binary is optimized with oneAPI Deep Neural Network Library (oneDNN) to use the following CPU instructions in performance-critical operations:  AVX2 AVX512F AVX512_VNNI FMA\n",
            "To enable them in other operations, rebuild TensorFlow with the appropriate compiler flags.\n",
            "2023-01-15 16:40:17.691694: I tensorflow/core/util/port.cc:104] oneDNN custom operations are on. You may see slightly different numerical results due to floating-point round-off errors from different computation orders. To turn them off, set the environment variable `TF_ENABLE_ONEDNN_OPTS=0`.\n",
            "2023-01-15 16:40:17.750176: W tensorflow/compiler/xla/stream_executor/platform/default/dso_loader.cc:64] Could not load dynamic library 'libcudart.so.11.0'; dlerror: libcudart.so.11.0: cannot open shared object file: No such file or directory\n",
            "2023-01-15 16:40:17.750204: I tensorflow/compiler/xla/stream_executor/cuda/cudart_stub.cc:29] Ignore above cudart dlerror if you do not have a GPU set up on your machine.\n",
            "2023-01-15 16:40:18.870355: W tensorflow/compiler/xla/stream_executor/platform/default/dso_loader.cc:64] Could not load dynamic library 'libnvinfer.so.7'; dlerror: libnvinfer.so.7: cannot open shared object file: No such file or directory\n",
            "2023-01-15 16:40:18.870439: W tensorflow/compiler/xla/stream_executor/platform/default/dso_loader.cc:64] Could not load dynamic library 'libnvinfer_plugin.so.7'; dlerror: libnvinfer_plugin.so.7: cannot open shared object file: No such file or directory\n",
            "2023-01-15 16:40:18.870465: W tensorflow/compiler/tf2tensorrt/utils/py_utils.cc:38] TF-TRT Warning: Cannot dlopen some TensorRT libraries. If you would like to use Nvidia GPU with TensorRT, please make sure the missing libraries mentioned above are installed properly.\n"
          ]
        },
        {
          "name": "stdout",
          "output_type": "stream",
          "text": [
            "2.11.0\n"
          ]
        }
      ],
      "source": [
        "import tensorflow as tf\n",
        "\n",
        "import glob\n",
        "import numpy as np\n",
        "import matplotlib.pyplot as plt\n",
        "\n",
        "print(tf.__version__)"
      ]
    },
    {
      "cell_type": "markdown",
      "metadata": {
        "id": "B29FwI6BfuI1"
      },
      "source": [
        "## Load data"
      ]
    },
    {
      "cell_type": "markdown",
      "metadata": {},
      "source": [
        "First, let us load the data"
      ]
    },
    {
      "cell_type": "code",
      "execution_count": 2,
      "metadata": {
        "id": "rfDnFX2lfzUf"
      },
      "outputs": [
        {
          "name": "stdout",
          "output_type": "stream",
          "text": [
            "0.708 8\n",
            "0.722 7\n",
            "0.702 6\n",
            "0.732 1\n",
            "0.704 8\n",
            "0.729 1\n",
            "0.704 6\n",
            "0.706 8\n",
            "0.7 6\n",
            "0.724 8\n",
            "0.72 1\n",
            "0.712 7\n",
            "0.716 8\n",
            "0.714 8\n",
            "0.718 8\n",
            "0.712 8\n",
            "0.72 8\n",
            "0.736 1\n",
            "0.702 7\n",
            "0.71 1\n",
            "0.712 6\n",
            "0.714 6\n",
            "0.72 6\n",
            "0.72 7\n",
            "0.735 1\n",
            "0.738 1\n",
            "0.708 7\n",
            "0.716 7\n",
            "0.722 8\n",
            "0.715 1\n",
            "0.704 7\n",
            "0.722 6\n",
            "0.726 6\n",
            "0.724 7\n",
            "0.737 1\n",
            "0.7 7\n",
            "0.723 1\n",
            "0.724 6\n",
            "0.73 1\n",
            "0.705 1\n",
            "0.706 7\n",
            "0.726 1\n",
            "0.733 1\n",
            "0.727 1\n",
            "0.718 7\n",
            "0.7 8\n",
            "0.731 1\n",
            "0.71 7\n",
            "0.708 6\n",
            "0.718 6\n",
            "0.71 8\n",
            "0.71 6\n",
            "0.728 1\n",
            "0.714 7\n",
            "0.706 6\n",
            "0.702 8\n",
            "0.739 1\n",
            "0.74 1\n",
            "0.724 1\n",
            "0.726 7\n",
            "0.734 1\n",
            "0.725 1\n",
            "0.726 8\n",
            "0.716 6\n",
            "2568\n"
          ]
        }
      ],
      "source": [
        "# loop over all the runs\n",
        "train_data = []\n",
        "train_labels = []\n",
        "\n",
        "path = 'ordered_128/Pe0'\n",
        "conf_counter = 0\n",
        "\n",
        "\n",
        "for fi in glob.glob(path + '/fi*'):\n",
        "    # extract the density from the path name\n",
        "    #print(fi)\n",
        "    density, run = tuple(fi.split('/')[2].split('_'))\n",
        "    density = float(density.split('fi')[1])\n",
        "    print(density, run)\n",
        "    # loop over all the trajectories\n",
        "    phase_label = 0 # liquid\n",
        "    if density >= 0.705:\n",
        "        phase_label = 1\n",
        "    if density >= 0.725:\n",
        "        phase_label = 2\n",
        "    if density >= 0.726:\n",
        "        phase_label = 3\n",
        "    #print(phase_label)\n",
        "    \n",
        "    for j, trj in enumerate(glob.glob(fi + '/Trj/xyz.dump.*')):\n",
        "        if j>50:\n",
        "            break\n",
        "        # load the trajectory\n",
        "        #print(phase_label, trj)\n",
        "        data = np.loadtxt(trj, skiprows=9)\n",
        "        \n",
        "        xmax = np.max(data[:,1])\n",
        "        ymax = np.max(data[:,2])\n",
        "\n",
        "        data[:,1] = data[:,1] / xmax\n",
        "        data[:,2] = data[:,2] / ymax\n",
        "\n",
        "        train_data.append(data[:,[1,2]])\n",
        "        train_labels.append(phase_label)\n",
        "\n",
        "        conf_counter += 1\n",
        "    \n",
        "    if conf_counter >= 4000:\n",
        "        break\n",
        "\n",
        "print(conf_counter)"
      ]
    },
    {
      "cell_type": "code",
      "execution_count": 3,
      "metadata": {},
      "outputs": [
        {
          "name": "stdout",
          "output_type": "stream",
          "text": [
            "0.708 8\n",
            "0.722 7\n",
            "0.702 6\n",
            "0.732 1\n",
            "0.704 8\n",
            "0.729 1\n",
            "0.704 6\n",
            "0.706 8\n",
            "0.7 6\n",
            "0.724 8\n",
            "0.72 1\n",
            "0.712 7\n",
            "0.716 8\n",
            "0.714 8\n",
            "0.718 8\n",
            "0.712 8\n",
            "0.72 8\n",
            "0.736 1\n",
            "0.702 7\n",
            "0.71 1\n",
            "0.712 6\n",
            "0.714 6\n",
            "0.72 6\n",
            "0.72 7\n",
            "0.735 1\n",
            "0.738 1\n",
            "0.708 7\n",
            "0.716 7\n",
            "0.722 8\n",
            "0.715 1\n",
            "0.704 7\n",
            "0.722 6\n",
            "0.726 6\n",
            "0.724 7\n",
            "0.737 1\n",
            "0.7 7\n",
            "0.723 1\n",
            "0.724 6\n",
            "0.73 1\n",
            "0.705 1\n",
            "0.706 7\n",
            "0.726 1\n",
            "0.733 1\n",
            "0.727 1\n",
            "0.718 7\n",
            "0.7 8\n",
            "0.731 1\n",
            "0.71 7\n",
            "0.708 6\n",
            "0.718 6\n",
            "0.71 8\n",
            "0.71 6\n",
            "0.728 1\n",
            "0.714 7\n",
            "0.706 6\n",
            "0.702 8\n",
            "0.739 1\n",
            "0.74 1\n",
            "0.724 1\n",
            "0.726 7\n",
            "0.734 1\n",
            "0.725 1\n",
            "0.726 8\n",
            "0.716 6\n"
          ]
        }
      ],
      "source": [
        "# loop over all the runs\n",
        "test_data = []\n",
        "test_labels = []\n",
        "\n",
        "path = 'ordered_128/Pe0'\n",
        "test_counter = 0\n",
        "\n",
        "for i, fi in enumerate(glob.glob(path + '/fi*')):\n",
        "\n",
        "\n",
        "    # extract the density from the path name\n",
        "    #print(fi)\n",
        "    density, run = tuple(fi.split('/')[2].split('_'))\n",
        "    density = float(density.split('fi')[1])\n",
        "    print(density, run)\n",
        "    # loop over all the trajectories\n",
        "    phase_label = 0 # liquid\n",
        "    if density >= 0.705:\n",
        "        phase_label = 1\n",
        "    if density >= 0.725:\n",
        "        phase_label = 2\n",
        "    if density >= 0.726:\n",
        "        phase_label = 3\n",
        "    \n",
        "    for j, trj in enumerate(glob.glob(fi + '/Trj/xyz.dump.*')):\n",
        "        if j <= 30:\n",
        "            continue\n",
        "        if j > 31:\n",
        "            break\n",
        "        # load the trajectory\n",
        "        #print(phase_label, trj)\n",
        "        data = np.loadtxt(trj, skiprows=9)\n",
        "        \n",
        "        xmax = np.max(data[:,1])\n",
        "        ymax = np.max(data[:,2])\n",
        "\n",
        "        data[:,1] = data[:,1] / xmax\n",
        "        data[:,2] = data[:,2] / ymax\n",
        "\n",
        "        test_data.append(data[:,[1,2]])\n",
        "        test_labels.append(phase_label)\n",
        "\n",
        "        test_counter += 1\n",
        "    \n",
        "    if test_counter >= 500:\n",
        "        break"
      ]
    },
    {
      "cell_type": "code",
      "execution_count": 4,
      "metadata": {},
      "outputs": [
        {
          "name": "stdout",
          "output_type": "stream",
          "text": [
            "42\n"
          ]
        }
      ],
      "source": [
        "print(test_counter)\n",
        "test_data = np.array(test_data)\n",
        "test_labels = np.array(test_labels)"
      ]
    },
    {
      "cell_type": "markdown",
      "metadata": {
        "id": "TvdscQn9gPT9"
      },
      "source": [
        "## Data selection\n"
      ]
    },
    {
      "cell_type": "code",
      "execution_count": 5,
      "metadata": {
        "id": "r1nnNjWOgdHN"
      },
      "outputs": [
        {
          "name": "stdout",
          "output_type": "stream",
          "text": [
            "(2568, 16384, 2)\n",
            "(2568,)\n"
          ]
        }
      ],
      "source": [
        "train_data = np.array(train_data)\n",
        "train_labels = np.array(train_labels)\n",
        "\n",
        "print(train_data.shape)\n",
        "print(train_labels.shape)"
      ]
    },
    {
      "cell_type": "code",
      "execution_count": 6,
      "metadata": {},
      "outputs": [
        {
          "name": "stdout",
          "output_type": "stream",
          "text": [
            "[[0.73116102 0.97770978]\n",
            " [0.98406532 0.87208305]\n",
            " [0.07215987 0.79156818]\n",
            " ...\n",
            " [0.99054451 0.95805895]\n",
            " [0.93476149 0.88559644]\n",
            " [0.13102701 0.19516683]]\n"
          ]
        },
        {
          "data": {
            "image/png": "[encoded data removed]",
            "text/plain": [
              "<Figure size 288x288 with 1 Axes>"
            ]
          },
          "metadata": {
            "needs_background": "light"
          },
          "output_type": "display_data"
        },
        {
          "name": "stdout",
          "output_type": "stream",
          "text": [
            "1\n"
          ]
        }
      ],
      "source": [
        "print(train_data[0])\n",
        "\n",
        "plt.figure(figsize=(4,4))\n",
        "#plt.xticks([])\n",
        "#plt.yticks([])\n",
        "plt.plot(train_data[1][:,0], train_data[1][:,1], 'o', markersize=1)\n",
        "plt.show()\n",
        "print(train_labels[1])\n"
      ]
    },
    {
      "cell_type": "code",
      "execution_count": 7,
      "metadata": {},
      "outputs": [
        {
          "name": "stderr",
          "output_type": "stream",
          "text": [
            "/tmp/ipykernel_62890/1773539401.py:17: VisibleDeprecationWarning: Creating an ndarray from ragged nested sequences (which is a list-or-tuple of lists-or-tuples-or ndarrays with different lengths or shapes) is deprecated. If you meant to do this, you must specify 'dtype=object' when creating the ndarray.\n",
            "  return np.array(smaller_boxes)\n"
          ]
        },
        {
          "data": {
            "image/png": "[encoded data removed]",
            "text/plain": [
              "<Figure size 288x288 with 1 Axes>"
            ]
          },
          "metadata": {
            "needs_background": "light"
          },
          "output_type": "display_data"
        },
        {
          "name": "stdout",
          "output_type": "stream",
          "text": [
            "100\n"
          ]
        }
      ],
      "source": [
        "def split_sys_in_squares(pos, edge_size):\n",
        "    '''This function takes in a list of x,y coordinates and splits them up into\n",
        "    smaller boxes with the size of edge_size. The boxes are returned in a list.'''\n",
        "    num_boxes = int(1 / edge_size)\n",
        "    smaller_boxes = [[] for _ in range((num_boxes) * (num_boxes))]\n",
        "    for x, y in pos:\n",
        "        if x < 0 or y < 0 or x > 1 or y > 1:\n",
        "            # Coordinates must be between 0 and 1.\n",
        "            raise ValueError(\"Coordinates must be between 0 and 1.\")\n",
        "        box_x = int(x / edge_size) % num_boxes\n",
        "        box_y = int(y / edge_size) % num_boxes\n",
        "        #print(num_boxes * num_boxes + 1, box_x + box_y * num_boxes )\n",
        "        smaller_boxes[box_x + box_y * num_boxes].append((x, y))\n",
        "    \n",
        "    for i in range(len(smaller_boxes)):\n",
        "        smaller_boxes[i] = np.array(smaller_boxes[i])\n",
        "    return np.array(smaller_boxes)\n",
        "\n",
        "new_pos = split_sys_in_squares(train_data[0], 0.1)\n",
        "#plt.plot(new_pos[5][:,0], new_pos[5][:,1], 'o', markersize=1)\n",
        "\n",
        "\n",
        "def padding_conf(pos: np.ndarray):\n",
        "    '''This function takes in a list of x,y coordinates and pads them with \n",
        "    zeros to make them all the same size. The padded coordinates are returned\n",
        "    in a list.'''\n",
        "    max_size = 0\n",
        "    for i in range(len(pos)):\n",
        "        if len(pos[i]) > max_size:\n",
        "            max_size = len(pos[i])\n",
        "    # print(max_size)\n",
        "    padded_pos = np.zeros((len(pos), max_size, 2))\n",
        "    for i in range(len(pos)):\n",
        "        #print(i)\n",
        "        padded_pos[i, :len(pos[i]), :] = pos[i]\n",
        "    return padded_pos\n",
        "\n",
        "def padding_conf_fixed_size(pos: np.ndarray, max_size: int):\n",
        "    '''This function takes in a list of x,y coordinates and pads them with \n",
        "    zeros to make them all the same size. The padded coordinates are returned\n",
        "    in a list.'''\n",
        "    padded_pos = np.zeros((len(pos), max_size, 2))\n",
        "    for i in range(len(pos)):\n",
        "        padded_pos[i, :len(pos[i]), :] = pos[i]\n",
        "    return padded_pos\n",
        "\n",
        "padded_pos = padding_conf(new_pos)\n",
        "\n",
        "#print(new_pos[3].shape)\n",
        "#print(padded_pos[3].shape)\n",
        "#print(padded_pos[3])\n",
        "\n",
        "plt.figure(figsize=(4,4))\n",
        "cellid = 3\n",
        "data = padded_pos[cellid][padded_pos[cellid][:,0] != 0.0]\n",
        "data = data[data[:,1] != 0.0]\n",
        "plt.plot(data[:,0], data[:,1], 'o', markersize=1)\n",
        "plt.show()\n",
        "\n",
        "print(len(padded_pos))"
      ]
    },
    {
      "cell_type": "code",
      "execution_count": 8,
      "metadata": {},
      "outputs": [
        {
          "name": "stdout",
          "output_type": "stream",
          "text": [
            "0.0 %\r"
          ]
        },
        {
          "name": "stderr",
          "output_type": "stream",
          "text": [
            "/tmp/ipykernel_62890/1773539401.py:17: VisibleDeprecationWarning: Creating an ndarray from ragged nested sequences (which is a list-or-tuple of lists-or-tuples-or ndarrays with different lengths or shapes) is deprecated. If you meant to do this, you must specify 'dtype=object' when creating the ndarray.\n",
            "  return np.array(smaller_boxes)\n"
          ]
        },
        {
          "name": "stdout",
          "output_type": "stream",
          "text": [
            "0.0 %202492211839 %%\r"
          ]
        }
      ],
      "source": [
        "# now split all the train set into smaller boxes with split_sys_in_squares\n",
        "# and pad them with zeros with padding_conf\n",
        "# then merge all the boxes into one big array\n",
        "\n",
        "padded_train_data = []\n",
        "for i in range(len(train_data)):\n",
        "    new_pos = split_sys_in_squares(train_data[i], 0.1)\n",
        "    padded_pos = padding_conf_fixed_size(new_pos, 189)\n",
        "    padded_train_data.append(padded_pos)\n",
        "    # print the completion percentage overwriting the same line\n",
        "    if i % 100 == 0:\n",
        "        print(i / len(train_data) * 100, '%\\r', end='')\n",
        "\n",
        "padded_test_data = []\n",
        "for i in range(len(test_data)):\n",
        "    new_pos = split_sys_in_squares(test_data[i], 0.1)\n",
        "    padded_pos = padding_conf_fixed_size(new_pos, 189)\n",
        "    padded_test_data.append(padded_pos)\n",
        "    # print the completion percentage overwriting the same line\n",
        "    if i % 100 == 0:\n",
        "        print(i / len(test_data) * 100, '%\\r', end='')\n",
        "\n",
        "#padded_train_data = np.array(padded_train_data)"
      ]
    },
    {
      "cell_type": "code",
      "execution_count": 9,
      "metadata": {},
      "outputs": [
        {
          "name": "stdout",
          "output_type": "stream",
          "text": [
            "(100, 189, 2)\n",
            "(256800, 189, 2)\n",
            "(100, 189, 2)\n",
            "(4200, 189, 2)\n"
          ]
        }
      ],
      "source": [
        "print(padded_train_data[4].shape)\n",
        "padded_train_data = np.concatenate(padded_train_data, axis=0)\n",
        "print(padded_train_data.shape)\n",
        "\n",
        "print(padded_test_data[4].shape)\n",
        "padded_test_data = np.concatenate(padded_test_data, axis=0)\n",
        "print(padded_test_data.shape)"
      ]
    },
    {
      "cell_type": "code",
      "execution_count": 10,
      "metadata": {},
      "outputs": [
        {
          "name": "stdout",
          "output_type": "stream",
          "text": [
            "256800\n",
            "2568\n",
            "4200\n",
            "42\n"
          ]
        }
      ],
      "source": [
        "print(len(padded_train_data))\n",
        "print(len(train_labels))\n",
        "\n",
        "print(len(padded_test_data))\n",
        "print(len(test_labels))\n",
        "\n",
        "# replicate each element in the train_labels array 100 times one after the other\n",
        "padded_train_labels = np.repeat(train_labels, 100)\n",
        "padded_test_labels = np.repeat(test_labels, 100)"
      ]
    },
    {
      "cell_type": "markdown",
      "metadata": {
        "id": "H95mVo5Bf6ak"
      },
      "source": [
        "## Set the model"
      ]
    },
    {
      "cell_type": "code",
      "execution_count": 11,
      "metadata": {},
      "outputs": [
        {
          "name": "stdout",
          "output_type": "stream",
          "text": [
            "(256800, 189, 2)\n"
          ]
        }
      ],
      "source": [
        "print(padded_train_data.shape)"
      ]
    },
    {
      "cell_type": "code",
      "execution_count": 37,
      "metadata": {
        "id": "TnRG1j78f77R"
      },
      "outputs": [],
      "source": [
        "model = tf.keras.Sequential([\n",
        "    tf.keras.layers.Flatten(input_shape=(189,2)),\n",
        "    tf.keras.layers.Dense(64, activation='relu'),\n",
        "    tf.keras.layers.Dense(64, activation='relu'),\n",
        "    tf.keras.layers.Dense(4, activation='softmax')\n",
        "])"
      ]
    },
    {
      "cell_type": "code",
      "execution_count": 42,
      "metadata": {},
      "outputs": [],
      "source": [
        "from keras.optimizers import SGD\n",
        "#opt = SGD()\n",
        "opt = SGD(learning_rate=0.0001)\n",
        "\n",
        "model.compile(optimizer='adam',\n",
        "              loss=tf.keras.losses.SparseCategoricalCrossentropy(),\n",
        "              metrics=['accuracy'])"
      ]
    },
    {
      "cell_type": "code",
      "execution_count": 43,
      "metadata": {},
      "outputs": [
        {
          "name": "stdout",
          "output_type": "stream",
          "text": [
            "Epoch 1/20\n",
            "8025/8025 [==============================] - 13s 2ms/step - loss: 0.7612 - accuracy: 0.6670 - val_loss: 0.6891 - val_accuracy: 0.6845\n",
            "Epoch 2/20\n",
            "8025/8025 [==============================] - 13s 2ms/step - loss: 0.7524 - accuracy: 0.6687 - val_loss: 0.6817 - val_accuracy: 0.6907\n",
            "Epoch 3/20\n",
            "8025/8025 [==============================] - 13s 2ms/step - loss: 0.7463 - accuracy: 0.6696 - val_loss: 0.7011 - val_accuracy: 0.6862\n",
            "Epoch 4/20\n",
            "8025/8025 [==============================] - 13s 2ms/step - loss: 0.7413 - accuracy: 0.6710 - val_loss: 0.6723 - val_accuracy: 0.6955\n",
            "Epoch 5/20\n",
            "8025/8025 [==============================] - 13s 2ms/step - loss: 0.7383 - accuracy: 0.6709 - val_loss: 0.6776 - val_accuracy: 0.6919\n",
            "Epoch 6/20\n",
            "8025/8025 [==============================] - 13s 2ms/step - loss: 0.7353 - accuracy: 0.6714 - val_loss: 0.6655 - val_accuracy: 0.7017\n",
            "Epoch 7/20\n",
            "8025/8025 [==============================] - 13s 2ms/step - loss: 0.7330 - accuracy: 0.6725 - val_loss: 0.6755 - val_accuracy: 0.6952\n",
            "Epoch 8/20\n",
            "8025/8025 [==============================] - 13s 2ms/step - loss: 0.7317 - accuracy: 0.6721 - val_loss: 0.6648 - val_accuracy: 0.6879\n",
            "Epoch 9/20\n",
            "8025/8025 [==============================] - 13s 2ms/step - loss: 0.7285 - accuracy: 0.6723 - val_loss: 0.6703 - val_accuracy: 0.6955\n",
            "Epoch 10/20\n",
            "8025/8025 [==============================] - 13s 2ms/step - loss: 0.7278 - accuracy: 0.6725 - val_loss: 0.6624 - val_accuracy: 0.6995\n",
            "Epoch 11/20\n",
            "8025/8025 [==============================] - 13s 2ms/step - loss: 0.7268 - accuracy: 0.6736 - val_loss: 0.6569 - val_accuracy: 0.6967\n",
            "Epoch 12/20\n",
            "8025/8025 [==============================] - 14s 2ms/step - loss: 0.7248 - accuracy: 0.6731 - val_loss: 0.6728 - val_accuracy: 0.6993\n",
            "Epoch 13/20\n",
            "8025/8025 [==============================] - 13s 2ms/step - loss: 0.7251 - accuracy: 0.6737 - val_loss: 0.6495 - val_accuracy: 0.6967\n",
            "Epoch 14/20\n",
            "8025/8025 [==============================] - 13s 2ms/step - loss: 0.7233 - accuracy: 0.6736 - val_loss: 0.6676 - val_accuracy: 0.6990\n",
            "Epoch 15/20\n",
            "8025/8025 [==============================] - 14s 2ms/step - loss: 0.7223 - accuracy: 0.6735 - val_loss: 0.6574 - val_accuracy: 0.6948\n",
            "Epoch 16/20\n",
            "8025/8025 [==============================] - 14s 2ms/step - loss: 0.7209 - accuracy: 0.6744 - val_loss: 0.6581 - val_accuracy: 0.7005\n",
            "Epoch 17/20\n",
            "8025/8025 [==============================] - 14s 2ms/step - loss: 0.7209 - accuracy: 0.6742 - val_loss: 0.6513 - val_accuracy: 0.7033\n",
            "Epoch 18/20\n",
            "8025/8025 [==============================] - 14s 2ms/step - loss: 0.7195 - accuracy: 0.6747 - val_loss: 0.6492 - val_accuracy: 0.7040\n",
            "Epoch 19/20\n",
            "8025/8025 [==============================] - 14s 2ms/step - loss: 0.7191 - accuracy: 0.6743 - val_loss: 0.6794 - val_accuracy: 0.6952\n",
            "Epoch 20/20\n",
            "8025/8025 [==============================] - 14s 2ms/step - loss: 0.7184 - accuracy: 0.6751 - val_loss: 0.6482 - val_accuracy: 0.6962\n"
          ]
        }
      ],
      "source": [
        "history = model.fit(padded_train_data, padded_train_labels, validation_data=(padded_test_data, padded_test_labels), epochs=20)"
      ]
    },
    {
      "cell_type": "code",
      "execution_count": 15,
      "metadata": {},
      "outputs": [
        {
          "name": "stdout",
          "output_type": "stream",
          "text": [
            "132/132 [==============================] - 1s 3ms/step - loss: 0.6414 - accuracy: 0.7088\n"
          ]
        },
        {
          "data": {
            "text/plain": [
              "[0.6414429545402527, 0.708809494972229]"
            ]
          },
          "execution_count": 15,
          "metadata": {},
          "output_type": "execute_result"
        }
      ],
      "source": [
        "model.evaluate(padded_test_data, padded_test_labels)"
      ]
    },
    {
      "cell_type": "code",
      "execution_count": 16,
      "metadata": {},
      "outputs": [
        {
          "name": "stdout",
          "output_type": "stream",
          "text": [
            "132/132 [==============================] - 0s 2ms/step\n"
          ]
        }
      ],
      "source": [
        "# probability_model = tf.keras.Sequential([model, \n",
        "#                                          tf.keras.layers.Softmax()])\n",
        "predictions = model.predict(padded_test_data)"
      ]
    },
    {
      "cell_type": "code",
      "execution_count": 44,
      "metadata": {},
      "outputs": [],
      "source": [
        "def print_test_density(index):\n",
        "    index = index % 100\n",
        "    path = 'ordered_128/Pe0'\n",
        "    test_fi = glob.glob(path + '/fi*')[index]\n",
        "    # extract the density from the path name\n",
        "    #print(fi)\n",
        "    density, run = tuple(test_fi.split('/')[2].split('_'))\n",
        "    density = float(density.split('fi')[1])\n",
        "    # loop over all the trajectories\n",
        "    phase_label = 0 # liquid\n",
        "    if density > 0.705:\n",
        "        phase_label = 1\n",
        "    if density > 0.722:\n",
        "        phase_label = 2\n",
        "    if density > 0.725:\n",
        "        phase_label = 3\n",
        "    \n",
        "    print(density, phase_label)"
      ]
    },
    {
      "cell_type": "code",
      "execution_count": 45,
      "metadata": {},
      "outputs": [
        {
          "name": "stdout",
          "output_type": "stream",
          "text": [
            "1\n",
            "[0.06834596 0.76234734 0.1383588  0.03094788]\n",
            "0.732 3\n"
          ]
        }
      ],
      "source": [
        "index = 1003\n",
        "print(padded_test_labels[index])\n",
        "print(predictions[index])\n",
        "print_test_density(index)"
      ]
    },
    {
      "cell_type": "code",
      "execution_count": 48,
      "metadata": {},
      "outputs": [
        {
          "data": {
            "image/png": "[encoded data removed]",
            "text/plain": [
              "<Figure size 720x576 with 2 Axes>"
            ]
          },
          "metadata": {
            "needs_background": "light"
          },
          "output_type": "display_data"
        }
      ],
      "source": [
        "import seaborn as sns\n",
        "\n",
        "def show_confusion_matrix(cm, labels):\n",
        "  plt.figure(figsize=(10, 8))\n",
        "  sns.heatmap(cm, xticklabels=labels, yticklabels=labels, \n",
        "              annot=True, fmt='g')\n",
        "  plt.xlabel('Prediction')\n",
        "  plt.ylabel('Label')\n",
        "  plt.show()\n",
        "\n",
        "confusion_mtx = tf.math.confusion_matrix(\n",
        "    padded_test_labels, np.argmax(predictions, axis=1), num_classes=4, dtype=tf.dtypes.int32, name=None\n",
        ")\n",
        "\n",
        "show_confusion_matrix(confusion_mtx, ['liquid', 'hex-liq coex', 'hexatic', 'solid'])"
      ]
    },
    {
      "cell_type": "code",
      "execution_count": 49,
      "metadata": {},
      "outputs": [
        {
          "data": {
            "image/png": "[encoded data removed]",
            "text/plain": [
              "<Figure size 720x360 with 2 Axes>"
            ]
          },
          "metadata": {
            "needs_background": "light"
          },
          "output_type": "display_data"
        }
      ],
      "source": [
        "# plot the time evolution of the accuracy and loss\n",
        "def plot_history(history):\n",
        "    plt.figure(figsize=(10, 5))\n",
        "    plt.subplot(1, 2, 1)\n",
        "    plt.plot(history.history['accuracy'], label='accuracy')\n",
        "    plt.plot(history.history['val_accuracy'], label = 'val_accuracy')\n",
        "    plt.xlabel('Epoch')\n",
        "    plt.ylabel('Accuracy')\n",
        "    plt.ylim([0.5, 1])\n",
        "    plt.legend(loc='lower right')\n",
        "\n",
        "    plt.subplot(1, 2, 2)\n",
        "    plt.plot(history.history['loss'], label='loss')\n",
        "    plt.plot(history.history['val_loss'], label = 'val_loss')\n",
        "    plt.xlabel('Epoch')\n",
        "    plt.ylabel('Loss')\n",
        "    plt.ylim([0, 1])\n",
        "    plt.legend(loc='lower right')\n",
        "    plt.show()\n",
        "\n",
        "plot_history(history) "
      ]
    }
  ],
  "metadata": {
    "colab": {
      "provenance": []
    },
    "kernelspec": {
      "display_name": "Python 3.10.6 64-bit",
      "language": "python",
      "name": "python3"
    },
    "language_info": {
      "codemirror_mode": {
        "name": "ipython",
        "version": 3
      },
      "file_extension": ".py",
      "mimetype": "text/x-python",
      "name": "python",
      "nbconvert_exporter": "python",
      "pygments_lexer": "ipython3",
      "version": "3.10.6"
    },
    "vscode": {
      "interpreter": {
        "hash": "31f2aee4e71d21fbe5cf8b01ff0e069b9275f58929596ceb00d14d90e3e16cd6"
      }
    }
  },
  "nbformat": 4,
  "nbformat_minor": 0
}
